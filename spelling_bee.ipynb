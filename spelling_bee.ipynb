{
  "nbformat": 4,
  "nbformat_minor": 0,
  "metadata": {
    "colab": {
      "provenance": [],
      "authorship_tag": "ABX9TyMKFSj3x7Yl48It4fCwtzIY",
      "include_colab_link": true
    },
    "kernelspec": {
      "name": "python3",
      "display_name": "Python 3"
    },
    "language_info": {
      "name": "python"
    }
  },
  "cells": [
    {
      "cell_type": "markdown",
      "metadata": {
        "id": "view-in-github",
        "colab_type": "text"
      },
      "source": [
        "<a href=\"https://colab.research.google.com/github/adrianyang2012/Anita_pencil_sharpener/blob/main/spelling_bee.ipynb\" target=\"_parent\"><img src=\"https://colab.research.google.com/assets/colab-badge.svg\" alt=\"Open In Colab\"/></a>"
      ]
    },
    {
      "cell_type": "code",
      "execution_count": null,
      "metadata": {
        "id": "m2sKjoy28nUC",
        "colab": {
          "base_uri": "https://localhost:8080/"
        },
        "outputId": "4f61a58a-75bc-4359-de70-58f38c26a93f"
      },
      "outputs": [
        {
          "name": "stdout",
          "output_type": "stream",
          "text": [
            "how much words do you want: (max words:19)5\n",
            "[teachers only]\n",
            "word order: vulnerable,benevolent,spontaneous,vivacious,omnipotent\n",
            "what is the players name(type stop to stop)\n",
            "-->Adrian\n",
            "what is the players name(type stop to stop)\n",
            "-->Bob\n",
            "what is the players name(type stop to stop)\n",
            "-->Mikey\n",
            "what is the players name(type stop to stop)\n",
            "-->Ryan\n",
            "what is the players name(type stop to stop)\n",
            "-->Mike\n",
            "what is the players name(type stop to stop)\n",
            "-->stop\n"
          ]
        }
      ],
      "source": [
        "import random\n",
        "import time\n",
        "hard_words = [\"depth\",\"forgetting\",\"educate\",\"transient\",\"meticulous\",\"inevitable\",\"vigilant\",\"interrogate\",\"benevolent\",\"consequence\",\"unenforceable\",\"omnipotent\",\"vivacious\",\"precocious\",\"vulnerable\",\"juggle\",\"revolutionary\",\"spontaneous\",\"einsteinium\",\"polynesians\",\"handkerchief\",\"burrito\",\"accommodate\"]\n",
        "hard_words_order = []\n",
        "places = ['st','nd','rd'] + ['th']*8\n",
        "n = int(input(\"how much words do you want: (max words:19)\"))\n",
        "for i in range(0,n):\n",
        "  try:\n",
        "    word = random.choice(hard_words)\n",
        "    hard_words_order.append(word)\n",
        "    hard_words.remove(word)\n",
        "  except:\n",
        "    pass\n",
        "print(\"[teachers only]\")\n",
        "print(f'word order: {\",\".join(hard_words_order)}')\n",
        "players = []\n",
        "while True:\n",
        "  print('what is the players name(type stop to stop)')\n",
        "  name = input('-->')\n",
        "  if name == 'stop':\n",
        "    break\n",
        "  players.append(name)\n",
        "players_who_losed =[]\n",
        "remaining_players = players[:]\n",
        "def ask_word(player_name):\n",
        "  global still_in\n",
        "  global won\n",
        "  print(\"how is the word spelled\")\n",
        "  ans = input('-->')\n",
        "  if len(hard_words_order) > 0:\n",
        "    \n",
        "    if ans == hard_words_order[0]:\n",
        "      hard_words_order.remove(hard_words_order[0])\n",
        "      print('correct')\n",
        "      if len(remaining_players) == 1:\n",
        "        won = 1\n",
        "\n",
        "    else:\n",
        "      \n",
        "      print(f'wrong the answer was :{\",\".join(list(hard_words_order[0]))}')\n",
        "      hard_words_order.remove(hard_words_order[0])\n",
        "      if len(remaining_players) == 1:\n",
        "        remaining_players.append(players_who_losed[-1])\n",
        "        players_who_losed.remove(players_who_losed[-1])\n",
        "      else:\n",
        "        still_in = 0\n",
        "        remaining_players.remove(player_name)\n",
        "        players_who_losed.append(player_name)\n",
        "    \n",
        "  else:\n",
        "    won = 1\n",
        "def display_score():\n",
        "  print('--------------------------------')\n",
        "  for j in range(0,len(players_who_losed)):\n",
        "    print(f\"{len(players_who_losed)-j+1}{places[int(str(len(players_who_losed)-j)[-1])]}. {players_who_losed[j]}\")\n",
        "    print('--------------------------------')\n",
        "    time.sleep(0.5)\n",
        "  if len(remaining_players) > 1:\n",
        "    print(f'1st. {\",\".join(remaining_players)}')\n",
        "  else:\n",
        "    print(f'1st. {remaining_players[0]}')\n",
        "  print('--------------------------------')\n",
        "  "
      ]
    },
    {
      "cell_type": "code",
      "source": [],
      "metadata": {
        "id": "EkMaDIQWdyXJ"
      },
      "execution_count": null,
      "outputs": []
    },
    {
      "cell_type": "code",
      "source": [
        "i = 0\n",
        "won = 0\n",
        "while True:\n",
        "  still_in = 1\n",
        "  print('-------------------------------')\n",
        "  print(\"it is \" + remaining_players[i%len(remaining_players)] + \"'s turn\")\n",
        "  ask_word(remaining_players[i%len(remaining_players)])\n",
        "  \n",
        "  if still_in:\n",
        "    i +=1\n",
        "  if won:\n",
        "    break\n",
        "print(\"done!\")\n",
        "print('Leader board time!')\n",
        "print('---------------------')\n",
        "display_score()"
      ],
      "metadata": {
        "id": "Zrw_vxQoR-An",
        "colab": {
          "base_uri": "https://localhost:8080/"
        },
        "outputId": "e524fa84-3d84-43cd-bbfa-69141e83a2e8"
      },
      "execution_count": null,
      "outputs": [
        {
          "output_type": "stream",
          "name": "stdout",
          "text": [
            "-------------------------------\n",
            "it is Adrian's turn\n",
            "how is the word spelled\n",
            "-->vulnerable\n",
            "correct\n",
            "-------------------------------\n",
            "it is Bob's turn\n",
            "how is the word spelled\n",
            "-->benevoeltn\n",
            "wrong the answer was :b,e,n,e,v,o,l,e,n,t\n",
            "-------------------------------\n",
            "it is Mikey's turn\n",
            "how is the word spelled\n",
            "-->spontaneus\n",
            "wrong the answer was :s,p,o,n,t,a,n,e,o,u,s\n",
            "-------------------------------\n",
            "it is Ryan's turn\n",
            "how is the word spelled\n",
            "-->vivaciosufda\n",
            "wrong the answer was :v,i,v,a,c,i,o,u,s\n",
            "-------------------------------\n",
            "it is Mike's turn\n",
            "how is the word spelled\n",
            "-->omnipotent\n",
            "correct\n",
            "-------------------------------\n",
            "it is Adrian's turn\n",
            "how is the word spelled\n",
            "-->done\n",
            "Leader board time!\n",
            "---------------------\n",
            "--------------------------------\n",
            "4th. Bob\n",
            "--------------------------------\n",
            "3rd. Mikey\n",
            "--------------------------------\n",
            "2nd. Ryan\n",
            "--------------------------------\n",
            "1st. Adrian,Mike\n",
            "--------------------------------\n"
          ]
        }
      ]
    }
  ]
}