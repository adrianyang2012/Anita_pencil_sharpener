{
  "nbformat": 4,
  "nbformat_minor": 0,
  "metadata": {
    "colab": {
      "private_outputs": true,
      "provenance": [],
      "authorship_tag": "ABX9TyPLH7V/XV6brOZURjRfWjBH",
      "include_colab_link": true
    },
    "kernelspec": {
      "name": "python3",
      "display_name": "Python 3"
    },
    "language_info": {
      "name": "python"
    }
  },
  "cells": [
    {
      "cell_type": "markdown",
      "metadata": {
        "id": "view-in-github",
        "colab_type": "text"
      },
      "source": [
        "<a href=\"https://colab.research.google.com/github/adrianyang2012/Anita_pencil_sharpener/blob/main/diagnostic.ipynb\" target=\"_parent\"><img src=\"https://colab.research.google.com/assets/colab-badge.svg\" alt=\"Open In Colab\"/></a>"
      ]
    },
    {
      "cell_type": "code",
      "execution_count": null,
      "metadata": {
        "id": "8ENh6SyV0xEz"
      },
      "outputs": [],
      "source": [
        "#                         diffuculty, answer , bounus?\n",
        "# FOR DEBUGING\n",
        "problems = {'what is 1+1':[1,2,0],\n",
        "            'what is 3*3':[150, 9,0],\n",
        "            'what is 4*11':[190,44,0],\n",
        "            'what is 2/3 + 1/2 round to nearest hundredth':[460,1.16,1],\n",
        "            'what is 2x+12 = 26 find x':[560,7,0],\n",
        "            'what is x^2 + 5x + 6 find x (larger root)':[699,-2,1],\n",
        "            'what is the square root of 196':[540,14,0],\n",
        "            '12x + 12 = 10x + 24 x = ?':[561,6,0],\n",
        "            'what is the distance from (4,3) to (0,0) (hint use pythogrean theorm)':[700,5,0],\n",
        "            'is 1/2 + 1/4 + 1/8 + 1/16 ... equal to one or less then 1(1 for equal and 2 for less then)':[1000,1,2],\n",
        "            'historical math: what did pythogras invent: (1 for theorm to find length of hypotenuse, 2 for finding gcd algorithm )':[700,1,0]\n",
        "            }\n",
        "\n",
        "def find_question(grade,already_did):\n",
        "  closest_problem = 'blah blah blah'\n",
        "  closest_dist = 100000000000\n",
        "  for problem in problems:\n",
        "    if (abs(grade-problems[problem][0]) < closest_dist) and problem not in already_did:\n",
        "      closest_dist = abs(grade-problems[problem][0])\n",
        "      closest_problem = problem\n",
        "  return closest_problem\n",
        "def ask_question(question):\n",
        "  print(question)\n",
        "  ans = float(input('type your answer: '))\n",
        "  if ans == problems[question][1]:\n",
        "    print('correct!')\n",
        "    return True\n",
        "  else:\n",
        "    print('wrong')\n",
        "    return False\n",
        "def edit_grade(question_hardness,correct,grade,bonus):\n",
        "  if correct:\n",
        "    bonus_point = 0\n",
        "    if bonus:\n",
        "      print('bonus points!')\n",
        "      bonus_point = 10 * bonus\n",
        "\n",
        "    if question_hardness-grade > 0:\n",
        "      return (question_hardness+grade)/2 + bonus_point\n",
        "    else:\n",
        "      return grade+1 + bonus_point\n",
        "  else:\n",
        "    if question_hardness-grade < 0:\n",
        "      return grade-(abs(question_hardness-grade)/10)\n",
        "    else:\n",
        "      return grade-1"
      ]
    },
    {
      "cell_type": "code",
      "source": [
        "# start a new diagnostic\n",
        "all_grades = []\n",
        "all_names = []\n",
        "all_grades1 = []\n",
        "which_type = 0\n",
        "print(' kindergarden: 1-100      first grade: 101-200     second grade: 201-300     third grade: 301-400     fourth grade: 401-500      fifth grade:    501-600 sixth grade: 601-700')\n",
        "\n",
        "usual_grade = int(input('what is your class grade: '))\n"
      ],
      "metadata": {
        "id": "_YEVJS-CP8b4"
      },
      "execution_count": null,
      "outputs": []
    },
    {
      "cell_type": "markdown",
      "source": [
        "When clicking below and you have a 🐛 **click the :thing above again** !!!!\n",
        "\n",
        "---\n",
        "\n"
      ],
      "metadata": {
        "id": "zQISr2NZaVur"
      }
    },
    {
      "cell_type": "code",
      "source": [
        "if which_type:\n",
        "  index = 0\n",
        "  print('taking 2nd diagnostic')\n",
        "while True:\n",
        "  \n",
        "  if which_type:\n",
        "    try:\n",
        "      print(f\"it is {all_names[index]}'s turn\")\n",
        "      index+=1\n",
        "    except:\n",
        "      break\n",
        "  else:\n",
        "    name = input('what is your name: ')\n",
        "    all_names.append(name)\n",
        "  current_grade = usual_grade\n",
        "  already_did = []\n",
        "  for i in range(0,10):\n",
        "    print(f'progress: {i*10}%')\n",
        "    question = find_question(current_grade,already_did)\n",
        "    if question == 'blah blah blah':\n",
        "      break\n",
        "    already_did.append(question)\n",
        "    ans = ask_question(question)\n",
        "    current_grade = edit_grade(problems[question][0],ans,current_grade,problems[question][2])\n",
        "  print(f'your grade is: {round(current_grade)}')\n",
        "  if which_type:\n",
        "    all_grades1.append(current_grade)\n",
        "  else:\n",
        "    all_grades.append(current_grade)\n",
        "  if which_type == 0:\n",
        "    if input('next? (type stop to see results)') == 'stop':\n",
        "      break\n",
        "    "
      ],
      "metadata": {
        "id": "43G7EmWAE2Kl"
      },
      "execution_count": null,
      "outputs": []
    },
    {
      "cell_type": "code",
      "source": [
        "import matplotlib.pyplot as plt\n",
        "if not all_grades1 != []:\n",
        "  which_type = 0\n",
        "plt.scatter(1,100,c = 'white')\n",
        "plt.scatter(1,700,c = 'white')\n",
        "plt.fill_between([i for i in range(0,len(all_grades))],100*int(usual_grade/100),100*(int(usual_grade/100)+1))\n",
        "plt.scatter([i for i in range(0,len(all_grades))],[grade for grade in all_grades])\n",
        "if which_type:\n",
        "  plt.scatter([i for i in range(0,len(all_grades1))],[grade for grade in all_grades1])\n",
        "print(\"________________________\")\n",
        "for i in range(0,len(all_names)):\n",
        "  \n",
        "  compare = int(all_grades[i]/100)\n",
        "  if which_type:\n",
        "    compare1 = int(all_grades1[i]/100)\n",
        "  compare_usual = int(usual_grade/100)\n",
        "  type_of_grade = ''\n",
        "  type_of_grade1 = ''\n",
        "  if compare == compare_usual:\n",
        "    type_of_grade = 'at grade level'\n",
        "  elif compare < compare_usual:\n",
        "    type_of_grade = 'approching grade level'\n",
        "  elif compare > compare_usual:\n",
        "    type_of_grade = 'above grade level'\n",
        "\n",
        "  try:\n",
        "    if compare1 == compare_usual:\n",
        "      type_of_grade1 = 'at grade level'\n",
        "    elif compare1 < compare_usual:\n",
        "      type_of_grade1 = 'approching grade level'\n",
        "    elif compare1 > compare_usual:\n",
        "      type_of_grade1 = 'above grade level'\n",
        "  except:\n",
        "    pass\n",
        "\n",
        "  plt.text(i,all_grades[i],all_names[i]+' orignal grade('+type_of_grade+')')\n",
        "  if which_type:\n",
        "    plt.text(i,all_grades1[i],all_names[i]+' new grade('+type_of_grade1+')')\n",
        "plt.title('orange = old grade, green = new grade')\n",
        "plt.show()\n",
        "which_type = 1\n"
      ],
      "metadata": {
        "id": "IGxee679Qt7G"
      },
      "execution_count": null,
      "outputs": []
    },
    {
      "cell_type": "code",
      "source": [
        "all_names"
      ],
      "metadata": {
        "id": "zqmV6KvwFvQg"
      },
      "execution_count": null,
      "outputs": []
    },
    {
      "cell_type": "code",
      "source": [
        "import time\n",
        "i = 0\n",
        "while True:\n",
        "  try:\n",
        "    i = i+1\n",
        "    time.sleep(1)\n",
        "    print(i)\n",
        "  except:\n",
        "    print('ok')\n",
        "    break\n",
        "print(f\"{int(i/60)} mins and {i%60} seconds\")"
      ],
      "metadata": {
        "id": "wKQf7Mf9eXnY"
      },
      "execution_count": null,
      "outputs": []
    }
  ]
}