{
  "nbformat": 4,
  "nbformat_minor": 0,
  "metadata": {
    "colab": {
      "private_outputs": true,
      "provenance": [],
      "authorship_tag": "ABX9TyMp7Vizptofu/HNia6W5Mvf",
      "include_colab_link": true
    },
    "kernelspec": {
      "name": "python3",
      "display_name": "Python 3"
    },
    "language_info": {
      "name": "python"
    }
  },
  "cells": [
    {
      "cell_type": "markdown",
      "metadata": {
        "id": "view-in-github",
        "colab_type": "text"
      },
      "source": [
        "<a href=\"https://colab.research.google.com/github/adrianyang2012/Anita_pencil_sharpener/blob/main/diagnostic.ipynb\" target=\"_parent\"><img src=\"https://colab.research.google.com/assets/colab-badge.svg\" alt=\"Open In Colab\"/></a>"
      ]
    },
    {
      "cell_type": "code",
      "execution_count": null,
      "metadata": {
        "id": "8ENh6SyV0xEz"
      },
      "outputs": [],
      "source": [
        "#                         diffuculty, answer\n",
        "# FOR DEBUGING\n",
        "problems = {'what is 1+1':[1,2],\n",
        "            'what is 3*3':[150, 9],\n",
        "            'what is 4*11':[190,44],\n",
        "            'what is 2x+12 = 26 find x':[560,7],\n",
        "            'what is x^2 + 5x + 6 find x (larger root)':[699,-2],\n",
        "            }\n",
        "\n",
        "def find_question(grade,already_did):\n",
        "  closest_problem = 'blah blah blah'\n",
        "  closest_dist = 100000000000\n",
        "  for problem in problems:\n",
        "    if (abs(grade-problems[problem][0]) < closest_dist) and problem not in already_did:\n",
        "      closest_dist = abs(grade-problems[problem][0])\n",
        "      closest_problem = problem\n",
        "  return closest_problem\n",
        "def ask_question(question):\n",
        "  print(question)\n",
        "  ans = int(input('type your answer: '))\n",
        "  if ans == problems[question][1]:\n",
        "    print('correct!')\n",
        "    return True\n",
        "  else:\n",
        "    print('wrong')\n",
        "    return False\n",
        "def edit_grade(question_hardness,correct,grade):\n",
        "  if correct:\n",
        "    if question_hardness-grade > 0:\n",
        "      return (question_hardness+grade)/2\n",
        "    else:\n",
        "      return grade+1\n",
        "  else:\n",
        "    if question_hardness-grade < 0:\n",
        "      return grade-(abs(question_hardness-grade)/10)\n",
        "    else:\n",
        "      return grade-1"
      ]
    },
    {
      "cell_type": "code",
      "source": [
        "# start a new diagnostic\n",
        "all_grades = []\n",
        "all_names = []\n",
        "usual_grade = int(input('what is your class grade: '))\n"
      ],
      "metadata": {
        "id": "_YEVJS-CP8b4"
      },
      "execution_count": null,
      "outputs": []
    },
    {
      "cell_type": "code",
      "source": [
        "print(' kindergarden: 1-100      first grade: 101-200     second grade: 201-300     third grade: 301-400     fourth grade: 401-500      fifth grade:    501-600 sixth grade: 601-700')\n",
        "name = input('what is your name: ')\n",
        "all_names.append(name)\n",
        "current_grade = usual_grade\n",
        "already_did = []\n",
        "for i in range(0,10):\n",
        "  question = find_question(current_grade,already_did)\n",
        "  if question == 'blah blah blah':\n",
        "    break\n",
        "  already_did.append(question)\n",
        "  ans = ask_question(question)\n",
        "  current_grade = edit_grade(problems[question][0],ans,current_grade)\n",
        "print(f'your grade is: {round(current_grade)}')\n",
        "all_grades.append(current_grade)"
      ],
      "metadata": {
        "id": "43G7EmWAE2Kl"
      },
      "execution_count": null,
      "outputs": []
    },
    {
      "cell_type": "code",
      "source": [
        "import matplotlib.pyplot as plt\n",
        "plt.plot([usual_grade for i in range(0,len(all_grades))])\n",
        "plt.scatter([i for i in range(0,len(all_grades))],[grade for grade in all_grades])\n",
        "for i in range(0,len(all_names)):\n",
        "  plt.text(i,all_grades[i],all_names[i])\n",
        "plt.show()"
      ],
      "metadata": {
        "id": "IGxee679Qt7G"
      },
      "execution_count": null,
      "outputs": []
    }
  ]
}